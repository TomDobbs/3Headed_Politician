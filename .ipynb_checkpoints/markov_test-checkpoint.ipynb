{
 "cells": [
  {
   "cell_type": "code",
   "execution_count": 1,
   "metadata": {
    "collapsed": false
   },
   "outputs": [],
   "source": [
    "from chain_builder import get_sentence\n",
    "import cPickle as pickle\n",
    "import tweepy\n",
    "from datetime import date, timedelta\n",
    "from keys import keys"
   ]
  },
  {
   "cell_type": "code",
   "execution_count": 2,
   "metadata": {
    "collapsed": true
   },
   "outputs": [],
   "source": [
    "with open('Pickles/forward_dict.pkl') as f:\n",
    "    f_dict = pickle.load(f)\n",
    "\n",
    "with open('Pickles/reversed_dict.pkl') as f:\n",
    "    r_dict = pickle.load(f)"
   ]
  },
  {
   "cell_type": "code",
   "execution_count": 15,
   "metadata": {
    "collapsed": true
   },
   "outputs": [],
   "source": [
    "CONSUMER_KEY = keys['consumer_key']\n",
    "CONSUMER_SECRET = keys['consumer_secret']\n",
    "ACCESS_TOKEN = keys['access_token']\n",
    "ACCESS_TOKEN_SECRET = keys['access_token_secret']\n",
    "\n",
    "auth = tweepy.OAuthHandler(CONSUMER_KEY, CONSUMER_SECRET)\n",
    "auth.set_access_token(ACCESS_TOKEN, ACCESS_TOKEN_SECRET)\n",
    "api = tweepy.API(auth)\n",
    "\n",
    "tweet_replies = []\n",
    "\n",
    "today = date.today().strftime(\"%Y-%m-%d\")\n",
    "yesterday = date.today() - timedelta(1)\n",
    "\n",
    "# ******************************************************\n",
    "# Queries Popular Tweets directed at Candidates or using\n",
    "# well-known Hashtags and responds to all queried tweets.\n",
    "# ******************************************************\n",
    "hashtags = [\"#FeelTheBern OR #ImWithHer OR #MakeAmericaGreatAgain OR #Trump2016 \\\n",
    "OR @BernieSanders OR @HillaryClinton OR @realDonaldTrump\"]\n",
    "\n",
    "top_tweets = tweepy.Cursor(api.search, q=hashtags, count=100, result_type='popular', include_entities=True, monitor_rate_limit=True, wait_on_rate_limit=True, wait_on_rate_limit_notify=True, lang=\"en\", since=yesterday, until=today).items()\n",
    "\n",
    "for status in top_tweets:\n",
    "    if status.favorite_count > 1000:\n",
    "        tweet_replies.append(status)\n",
    "\n",
    "# ***************************************************\n",
    "# Queries Tweets directed at or in reply to\n",
    "# FeelTheBern_Bot and responds to all queried tweets.\n",
    "# ***************************************************\n",
    "bernbot_query = \"to:FeelTheBern_Bot OR @FeelTheBern_Bot\"\n",
    "\n",
    "bernbot_tweets = tweepy.Cursor(api.search, q=bernbot_query, count=100, result_type='recent', include_entities=True, monitor_rate_limit=True, wait_on_rate_limit=True, wait_on_rate_limit_notify=True, lang=\"en\", since=yesterday, until=today).items()\n",
    "\n",
    "for status in bernbot_tweets:\n",
    "    tweet_replies.append(status)\n",
    "\n",
    "# ************************************************\n",
    "# Queries Tweets from Presidential Candidates and\n",
    "# responds to those with greater than 500 likes.\n",
    "# ************************************************\n",
    "candidate_query = \"from:BernieSanders OR from:HillaryClinton OR from:realDonaldTrump\"\n",
    "\n",
    "candidate_tweets = tweepy.Cursor(api.search, q=candidate_query, count=100, result_type='recent', include_entities=True, monitor_rate_limit=True, wait_on_rate_limit=True, wait_on_rate_limit_notify=True, lang=\"en\", since=yesterday, until=today).items()\n",
    "\n",
    "for status in candidate_tweets:\n",
    "    if status.favorite_count > 500:\n",
    "        tweet_replies.append(status)\n",
    "\n",
    "\n",
    "# DROPS ANY DUPLICATE TWEETS SO IT DOES NOT RESPOND TWICE\n",
    "tweet_replies = set(tweet_replies)"
   ]
  },
  {
   "cell_type": "code",
   "execution_count": null,
   "metadata": {
    "collapsed": false,
    "scrolled": false
   },
   "outputs": [
    {
     "name": "stdout",
     "output_type": "stream",
     "text": [
      "0 ---- 727241630097383424\n",
      "@ BernieSanders Sick and tired of large corporations trying to cut social programs while they're shipping millions of jobs abroad.\n",
      "https://t.co/jTiGupcrwz\n",
      "@BernieSanders You said, quote: which personally I think would have been a majority of women on social Security.\n",
      "*************\n",
      "1 ---- 727120229591961600\n",
      "@ BernieSanders I want Wall Street to help kids in this country attend public colleges and universities tuition-free with a Wall Street speculation tax.\n",
      "@BernieSanders When we begin to emphasize that, I think, the idea of building a wall along the southern border.\n",
      "*************\n",
      "2 ---- 726935349973385216\n",
      "@ HillaryClinton We should be making it easier to vote, not harder. The attacks on voting rights have to end.\n",
      "@HillaryClinton RUBIO: We're going to end sanctuary cities.\n",
      "*************\n",
      "3 ---- 726939248922865664\n",
      "@ HillaryClinton \"Let’s keep going together.\n",
      "Let’s organize and mobilize.\n",
      "Let’s make sure that love trumps hate.\" —Hillary\n",
      "@HillaryClinton What I said, bomb the oil and keep the oil.\n",
      "*************\n",
      "4 ---- 727141602917937155\n",
      "@ BernieSanders I want to make banking boring again. It shouldn't be about making as much profit as possible by gambling on esoteric financial products.\n",
      "@BernieSanders But I want smaller doses over a longer period of time.\n",
      "*************\n",
      "5 ---- 727277123040370688\n",
      "@ MichaelAdams317 Surprisingly, these panos only capture (maybe) 2/3 of crowd at @BernieSanders rally in Downtown Indy #IndianaPrimary https://t.co/8vbwe09ioC\n",
      "@MichaelAdams317 It's obviously very popular in this crowd, and it's also possible to improve how we police our police.\n",
      "*************\n",
      "6 ---- 727226308330029061\n",
      "@ HillaryClinton When we stand together against the other side's hateful words, we all rise.\n",
      "https://t.co/UagcfYANnR\n",
      "@HillaryClinton And my plan goes so much further to try to prevent what they saw as a mass genocide, in their words.\n",
      "*************\n",
      "7 ---- 726929604708032513\n",
      "@ HillaryClinton Watch live: Hillary addresses the 61st annual @NAACP dinner in Detroit → https://t.co/iKTdZahKdp\n",
      "@HillaryClinton But, you're calling them hillary Clinton's failed trade policies.\n",
      "*************\n",
      "8 ---- 727137190967435265\n",
      "@ realDonaldTrump Everybody is talking about the protesters burning the American flags and proudly waving Mexican flags. I want America First - so do voters!\n",
      "@realDonaldTrump system and that we have a real policy role?\n",
      "*************\n",
      "9 ---- 726933701540610048\n",
      "@ HillaryClinton \"Something’s wrong when the median wealth for black families is just a tiny fraction of that for white families.\" —Hillary\n",
      "@HillaryClinton As a senator, yes, indeed, black lives matter.\n",
      "*************\n",
      "10 ---- 727252046286450689\n",
      "@ realDonaldTrump Thank you Carmel, Indiana! Get out &amp; #VoteTrump tomorrow! #INPrimary #MakeAmericaGreatAgain https://t.co/j07c4oYryG\n",
      "@realDonaldTrump Mine actually cuts the payroll tax, so the working class would get a tax break as well.\n",
      "*************\n",
      "11 ---- 727225626575421440\n",
      "@ realDonaldTrump Honored to have received the endorsement of Lou Holtz - a great guy! #INPrimary #Trump2016 https://t.co/AeGyODb37O\n",
      "@realDonaldTrump Here's the thing - it was sort of funny - 65 percent of Republicans think Donald is right.\n",
      "*************\n",
      "12"
     ]
    }
   ],
   "source": [
    "best_tweets = []\n",
    "for i, tweet in enumerate(tweet_replies):\n",
    "    resp_length = 141\n",
    "    text = tweet.text\n",
    "    sn = tweet.user.screen_name\n",
    "    response = ':'\n",
    "\n",
    "    while resp_length > 140 and ':' in response:\n",
    "        response = get_sentence(text, f_dict, r_dict, randomness = 1) \n",
    "        response = \"@{0} {1}\".format(sn, response)\n",
    "        resp_length = len(response)\n",
    "    \n",
    "    print i, '----', tweet.id\n",
    "    print '@', sn, text\n",
    "    print response\n",
    "    print '*************'\n",
    "    best_tweets.append([response, tweet.id])"
   ]
  },
  {
   "cell_type": "code",
   "execution_count": 14,
   "metadata": {
    "collapsed": false
   },
   "outputs": [
    {
     "name": "stdout",
     "output_type": "stream",
     "text": [
      "43\n",
      "@BernieSanders When you were elected governor, you have to decide where to spend your political capital. 726789509778661376\n"
     ]
    }
   ],
   "source": [
    "best_list = [0,1,3]\n",
    "for i, tweet in enumerate(best_tweets):\n",
    "    if i in best_list:\n",
    "        print i \n",
    "        print tweet[0], tweet[1]\n",
    "        s = api.update_status(tweet[0], tweet[1])"
   ]
  },
  {
   "cell_type": "code",
   "execution_count": null,
   "metadata": {
    "collapsed": true
   },
   "outputs": [],
   "source": []
  }
 ],
 "metadata": {
  "kernelspec": {
   "display_name": "Python 2",
   "language": "python",
   "name": "python2"
  },
  "language_info": {
   "codemirror_mode": {
    "name": "ipython",
    "version": 2
   },
   "file_extension": ".py",
   "mimetype": "text/x-python",
   "name": "python",
   "nbconvert_exporter": "python",
   "pygments_lexer": "ipython2",
   "version": "2.7.10"
  }
 },
 "nbformat": 4,
 "nbformat_minor": 0
}
