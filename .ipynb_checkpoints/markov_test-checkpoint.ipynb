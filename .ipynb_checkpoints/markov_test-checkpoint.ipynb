{
 "cells": [
  {
   "cell_type": "code",
   "execution_count": 1,
   "metadata": {
    "collapsed": false
   },
   "outputs": [],
   "source": [
    "from chain import get_sentence\n",
    "import cPickle as pickle\n",
    "import tweepy\n",
    "from datetime import date, timedelta\n",
    "from twitter_keys import keys"
   ]
  },
  {
   "cell_type": "code",
   "execution_count": 2,
   "metadata": {
    "collapsed": false
   },
   "outputs": [],
   "source": [
    "with open('Pickles/forward_dict.pkl') as f:\n",
    "    f_dict = pickle.load(f)\n",
    "\n",
    "with open('Pickles/reversed_dict.pkl') as f:\n",
    "    r_dict = pickle.load(f)"
   ]
  },
  {
   "cell_type": "code",
   "execution_count": 3,
   "metadata": {
    "collapsed": true
   },
   "outputs": [],
   "source": [
    "CONSUMER_KEY = keys['consumer_key']\n",
    "CONSUMER_SECRET = keys['consumer_secret']\n",
    "ACCESS_TOKEN = keys['access_token']\n",
    "ACCESS_TOKEN_SECRET = keys['access_token_secret']\n",
    "\n",
    "auth = tweepy.OAuthHandler(CONSUMER_KEY, CONSUMER_SECRET)\n",
    "auth.set_access_token(ACCESS_TOKEN, ACCESS_TOKEN_SECRET)\n",
    "api = tweepy.API(auth)\n",
    "\n",
    "tweet_replies = []\n",
    "\n",
    "today = date.today().strftime(\"%Y-%m-%d\")\n",
    "yesterday = date.today() - timedelta(1)\n",
    "\n",
    "# ******************************************************\n",
    "# Queries Popular Tweets directed at Candidates or using\n",
    "# well-known Hashtags and responds to all queried tweets.\n",
    "# ******************************************************\n",
    "hashtags = [\"#FeelTheBern OR #ImWithHer OR #MakeAmericaGreatAgain OR #Trump2016 \\\n",
    "OR @BernieSanders OR @HillaryClinton OR @realDonaldTrump\"]\n",
    "\n",
    "top_tweets = tweepy.Cursor(api.search, q=hashtags, count=100, result_type='popular', include_entities=True, monitor_rate_limit=True, wait_on_rate_limit=True, wait_on_rate_limit_notify=True, lang=\"en\", since=yesterday, until=today).items()\n",
    "\n",
    "for status in top_tweets:\n",
    "    if status.favorite_count > 1000:\n",
    "        tweet_replies.append(status)\n",
    "\n",
    "# ***************************************************\n",
    "# Queries Tweets directed at or in reply to\n",
    "# FeelTheBern_Bot and responds to all queried tweets.\n",
    "# ***************************************************\n",
    "bernbot_query = \"to:FeelTheBern_Bot OR @FeelTheBern_Bot\"\n",
    "\n",
    "bernbot_tweets = tweepy.Cursor(api.search, q=bernbot_query, count=100, result_type='recent', include_entities=True, monitor_rate_limit=True, wait_on_rate_limit=True, wait_on_rate_limit_notify=True, lang=\"en\", since=yesterday, until=today).items()\n",
    "\n",
    "for status in bernbot_tweets:\n",
    "    tweet_replies.append(status)\n",
    "\n",
    "# ************************************************\n",
    "# Queries Tweets from Presidential Candidates and\n",
    "# responds to those with greater than 500 likes.\n",
    "# ************************************************\n",
    "candidate_query = \"from:BernieSanders OR from:HillaryClinton OR from:realDonaldTrump\"\n",
    "\n",
    "candidate_tweets = tweepy.Cursor(api.search, q=candidate_query, count=100, result_type='recent', include_entities=True, monitor_rate_limit=True, wait_on_rate_limit=True, wait_on_rate_limit_notify=True, lang=\"en\", since=yesterday, until=today).items()\n",
    "\n",
    "for status in candidate_tweets:\n",
    "    if status.favorite_count > 500:\n",
    "        tweet_replies.append(status)\n",
    "\n",
    "\n",
    "# DROPS ANY DUPLICATE TWEETS SO IT DOES NOT RESPOND TWICE\n",
    "tweet_replies = set(tweet_replies)"
   ]
  },
  {
   "cell_type": "code",
   "execution_count": 5,
   "metadata": {
    "collapsed": false,
    "scrolled": false
   },
   "outputs": [
    {
     "name": "stdout",
     "output_type": "stream",
     "text": [
      ".@tedcruz crosses the street to confront @realDonaldTrump backers on the sidewalk https://t.co/G0alC50KAr\n",
      "[u'@tedcruz', u'crosses', u'street', u'confront', u'@realdonaldtrump', u'backers', u'sidewalk', u'https://tco/g0alc50kar']\n",
      "0 ---- 727442753689292800\n",
      "@ Morning_Joe .@tedcruz crosses the street to confront @realDonaldTrump backers on the sidewalk https://t.co/G0alC50KAr\n",
      "@Morning_Joe I demand that we break up the big Wall street banks.\n",
      "*************\n",
      "When it comes to love and kindness, @AndraDayMusic puts it best.\n",
      "https://t.co/tN1crd3QbP\n",
      "[u'comes', u'love', u'kindness', u'@andradaymusic', u'puts', u'best', u'https://tco/tn1crd3qbp']\n",
      "1 ---- 727318303065034753\n",
      "@ HillaryClinton When it comes to love and kindness, @AndraDayMusic puts it best.\n",
      "https://t.co/tN1crd3QbP\n",
      "@HillaryClinton Here's the best solution of all.\n",
      "*************\n",
      "Friends who voted today?! How are we looking in Indiana! #Trump2016 #MakeAmericaGreatAgain 🚂💨🇺🇸🇺🇸 https://t.co/Rbx01s01FX\n",
      "[u'friends', u'voted', u'today', u'looking', u'indiana', u'#trump2016', u'#makeamericagreatagain', u'\\U0001f682\\U0001f4a8\\U0001f1fa\\U0001f1f8\\U0001f1fa\\U0001f1f8', u'https://tco/rbx01s01fx']\n",
      "2 ---- 727588020589867009\n",
      "@ EricTrump Friends who voted today?! How are we looking in Indiana! #Trump2016 #MakeAmericaGreatAgain 🚂💨🇺🇸🇺🇸 https://t.co/Rbx01s01FX\n",
      "@EricTrump Biggest problem this world has Today is not President Obama with our records.\n",
      "*************\n",
      "Raising the retirement age to 70 would reduce lifetime Social Security benefits by about 15% and do little to strengthen Social Security.\n",
      "[u'raising', u'retirement', u'age', u'70', u'would', u'reduce', u'lifetime', u'social', u'security', u'benefits', u'15%', u'little', u'strengthen', u'social', u'security']\n",
      "3 ---- 727543765036990465\n",
      "@ BernieSanders Raising the retirement age to 70 would reduce lifetime Social Security benefits by about 15% and do little to strengthen Social Security.\n",
      "@BernieSanders In other words, in American, conservatism should mean not only that we need to cut benefits for social Security and Medicare.\n",
      "*************\n",
      "Coach Lou Holtz endorsed @realDonaldTrump- prior to arriving in South Bend, IND. TWO WINNERS!\n",
      "#INPrimary #Trump2016 https://t.co/sCTSrncjPl\n"
     ]
    }
   ],
   "source": [
    "best_tweets = []\n",
    "for i, tweet in enumerate(tweet_replies):\n",
    "    resp_length = 141\n",
    "    text = tweet.text\n",
    "    sn = tweet.user.screen_name\n",
    "    response = ':'\n",
    "\n",
    "    while resp_length > 140 or ':' in response:\n",
    "        response = get_sentence(text, f_dict, r_dict, randomness = 1) \n",
    "        response = \"@{0} {1}\".format(sn, response)\n",
    "        resp_length = len(response)\n",
    "    \n",
    "    print i, '----', tweet.id\n",
    "    print '@', sn, text\n",
    "    print response\n",
    "    print '*************'\n",
    "    best_tweets.append([response, tweet.id])"
   ]
  },
  {
   "cell_type": "code",
   "execution_count": 12,
   "metadata": {
    "collapsed": false
   },
   "outputs": [
    {
     "name": "stdout",
     "output_type": "stream",
     "text": [
      "0\n",
      "@realDonaldTrump So don't tell me that we ought to close that Internet thing. 727540765765828609\n",
      "1\n",
      "@HillaryClinton One at a time, go ahead and respond. 727582702749159424\n",
      "2\n",
      "@IngrahamAngle As you too know, I would note that the scripture tells us, you shall know them by their fruit. 727563120571494401\n",
      "3\n",
      "@realDonaldTrump He doesn't get to yell the whole time. 727319608663875585\n",
      "6\n",
      "@HillaryClinton Going to bring jobs back and I'll start bringing them back very fast. 727637840620879873\n",
      "10\n",
      "@DanScavino Polls go up. 727322509712875524\n",
      "11\n",
      "@BernieSanders Frankly, what I added, which I think was smart power at its best, is that we got to get wages going up again. 727296128031449088\n",
      "18\n",
      "@BernieSanders We should tell the Chinese, by the Kurds, the Christians and the moderate Sunnis. 727580488383238144\n"
     ]
    }
   ],
   "source": [
    "best_list = [0,1,2,3,6,10,11,18]\n",
    "for i, tweet in enumerate(best_tweets):\n",
    "    if i in best_list:\n",
    "        print i \n",
    "        print tweet[0], tweet[1]\n",
    "        s = api.update_status(tweet[0], tweet[1])"
   ]
  },
  {
   "cell_type": "code",
   "execution_count": null,
   "metadata": {
    "collapsed": true
   },
   "outputs": [],
   "source": []
  }
 ],
 "metadata": {
  "kernelspec": {
   "display_name": "Python 2",
   "language": "python",
   "name": "python2"
  },
  "language_info": {
   "codemirror_mode": {
    "name": "ipython",
    "version": 2
   },
   "file_extension": ".py",
   "mimetype": "text/x-python",
   "name": "python",
   "nbconvert_exporter": "python",
   "pygments_lexer": "ipython2",
   "version": "2.7.10"
  }
 },
 "nbformat": 4,
 "nbformat_minor": 0
}
