{
 "cells": [
  {
   "cell_type": "code",
   "execution_count": 4,
   "metadata": {
    "collapsed": false
   },
   "outputs": [
    {
     "ename": "ImportError",
     "evalue": "No module named keys",
     "output_type": "error",
     "traceback": [
      "\u001b[0;31m---------------------------------------------------------------------------\u001b[0m",
      "\u001b[0;31mImportError\u001b[0m                               Traceback (most recent call last)",
      "\u001b[0;32m<ipython-input-4-ee2f9830a826>\u001b[0m in \u001b[0;36m<module>\u001b[0;34m()\u001b[0m\n\u001b[1;32m      3\u001b[0m \u001b[0;32mimport\u001b[0m \u001b[0mtweepy\u001b[0m\u001b[0;34m\u001b[0m\u001b[0m\n\u001b[1;32m      4\u001b[0m \u001b[0;32mfrom\u001b[0m \u001b[0mdatetime\u001b[0m \u001b[0;32mimport\u001b[0m \u001b[0mdate\u001b[0m\u001b[0;34m,\u001b[0m \u001b[0mtimedelta\u001b[0m\u001b[0;34m\u001b[0m\u001b[0m\n\u001b[0;32m----> 5\u001b[0;31m \u001b[0;32mfrom\u001b[0m \u001b[0mkeys\u001b[0m \u001b[0;32mimport\u001b[0m \u001b[0mkeys\u001b[0m\u001b[0;34m\u001b[0m\u001b[0m\n\u001b[0m",
      "\u001b[0;31mImportError\u001b[0m: No module named keys"
     ]
    }
   ],
   "source": [
    "from chain_builder import get_sentence\n",
    "import cPickle as pickle\n",
    "import tweepy\n",
    "from datetime import date, timedelta\n",
    "from keys import keys"
   ]
  },
  {
   "cell_type": "code",
   "execution_count": null,
   "metadata": {
    "collapsed": true
   },
   "outputs": [],
   "source": [
    "with open('Pickles/forward_dict.pkl') as f:\n",
    "    f_dict = pickle.load(f)\n",
    "\n",
    "with open('Pickles/reversed_dict.pkl') as f:\n",
    "    r_dict = pickle.load(f)"
   ]
  },
  {
   "cell_type": "code",
   "execution_count": null,
   "metadata": {
    "collapsed": true
   },
   "outputs": [],
   "source": [
    "CONSUMER_KEY = keys['consumer_key']\n",
    "CONSUMER_SECRET = keys['consumer_secret']\n",
    "ACCESS_TOKEN = keys['access_token']\n",
    "ACCESS_TOKEN_SECRET = keys['access_token_secret']\n",
    "\n",
    "auth = tweepy.OAuthHandler(CONSUMER_KEY, CONSUMER_SECRET)\n",
    "auth.set_access_token(ACCESS_TOKEN, ACCESS_TOKEN_SECRET)\n",
    "api = tweepy.API(auth)\n",
    "\n",
    "tweet_replies = []\n",
    "\n",
    "today = date.today().strftime(\"%Y-%m-%d\")\n",
    "yesterday = date.today() - timedelta(1)\n",
    "\n",
    "# ******************************************************\n",
    "# Queries Popular Tweets directed at Candidates or using\n",
    "# well-known Hashtags and responds to all queried tweets.\n",
    "# ******************************************************\n",
    "hashtags = [\"#FeelTheBern OR #ImWithHer OR #MakeAmericaGreatAgain OR #Trump2016 \\\n",
    "OR @BernieSanders OR @HillaryClinton OR @realDonaldTrump\"]\n",
    "\n",
    "top_tweets = tweepy.Cursor(api.search, q=hashtags, count=100, result_type='popular', include_entities=True, monitor_rate_limit=True, wait_on_rate_limit=True, wait_on_rate_limit_notify=True, lang=\"en\", since=yesterday, until=today).items()\n",
    "\n",
    "for status in top_tweets:\n",
    "    if status.favorite_count > 1000:\n",
    "        tweet_replies.append(status)\n",
    "\n",
    "# ***************************************************\n",
    "# Queries Tweets directed at or in reply to\n",
    "# FeelTheBern_Bot and responds to all queried tweets.\n",
    "# ***************************************************\n",
    "bernbot_query = \"to:FeelTheBern_Bot OR @FeelTheBern_Bot\"\n",
    "\n",
    "bernbot_tweets = tweepy.Cursor(api.search, q=bernbot_query, count=100, result_type='recent', include_entities=True, monitor_rate_limit=True, wait_on_rate_limit=True, wait_on_rate_limit_notify=True, lang=\"en\", since=yesterday, until=today).items()\n",
    "\n",
    "for status in bernbot_tweets:\n",
    "    tweet_replies.append(status)\n",
    "\n",
    "# ************************************************\n",
    "# Queries Tweets from Presidential Candidates and\n",
    "# responds to those with greater than 500 likes.\n",
    "# ************************************************\n",
    "candidate_query = \"from:BernieSanders OR from:HillaryClinton OR from:realDonaldTrump\"\n",
    "\n",
    "candidate_tweets = tweepy.Cursor(api.search, q=candidate_query, count=100, result_type='recent', include_entities=True, monitor_rate_limit=True, wait_on_rate_limit=True, wait_on_rate_limit_notify=True, lang=\"en\", since=yesterday, until=today).items()\n",
    "\n",
    "for status in candidate_tweets:\n",
    "    if status.favorite_count > 500:\n",
    "        tweet_replies.append(status)\n",
    "\n",
    "\n",
    "# DROPS ANY DUPLICATE TWEETS SO IT DOES NOT RESPOND TWICE\n",
    "tweet_replies = set(tweet_replies)"
   ]
  }
 ],
 "metadata": {
  "kernelspec": {
   "display_name": "Python 2",
   "language": "python",
   "name": "python2"
  },
  "language_info": {
   "codemirror_mode": {
    "name": "ipython",
    "version": 2
   },
   "file_extension": ".py",
   "mimetype": "text/x-python",
   "name": "python",
   "nbconvert_exporter": "python",
   "pygments_lexer": "ipython2",
   "version": "2.7.10"
  }
 },
 "nbformat": 4,
 "nbformat_minor": 0
}
